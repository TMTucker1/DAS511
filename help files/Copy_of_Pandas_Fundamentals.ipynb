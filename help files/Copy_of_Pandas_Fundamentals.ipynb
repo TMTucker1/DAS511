{
  "nbformat": 4,
  "nbformat_minor": 0,
  "metadata": {
    "kernelspec": {
      "display_name": "Python 3",
      "language": "python",
      "name": "python3"
    },
    "language_info": {
      "codemirror_mode": {
        "name": "ipython",
        "version": 3
      },
      "file_extension": ".py",
      "mimetype": "text/x-python",
      "name": "python",
      "nbconvert_exporter": "python",
      "pygments_lexer": "ipython3",
      "version": "3.8.1"
    },
    "toc-autonumbering": true,
    "colab": {
      "name": "Copy of Pandas Fundamentals.ipynb",
      "provenance": [],
      "collapsed_sections": [],
      "include_colab_link": true
    }
  },
  "cells": [
    {
      "cell_type": "markdown",
      "metadata": {
        "id": "view-in-github",
        "colab_type": "text"
      },
      "source": [
        "<a href=\"https://colab.research.google.com/github/TMTucker1/DAS511/blob/main/Copy_of_Pandas_Fundamentals.ipynb\" target=\"_parent\"><img src=\"https://colab.research.google.com/assets/colab-badge.svg\" alt=\"Open In Colab\"/></a>"
      ]
    },
    {
      "cell_type": "markdown",
      "metadata": {
        "id": "g7Qnl0Y7hoFQ"
      },
      "source": [
        "# Introduction\n",
        "\n",
        "Pandas is a Python module that provides capabilities to interact-with and to manipulate data that is structured as rows and columns. This is a very common way to structure data. Often rows are used to represent things like transactions or observations and columns are used to represent attributes or measurements of these things. Record sets from SQL database queries are structured this way; CSV files are also structured this way; Microsoft Excel's spreadsheets often store data in rows and columns table as well. Pandas provides many features to support loading this data from these types of sources or from regular Python list or dict objects. Once the Pandas loads the data, Pandas provides numerous features to conduct data analysis."
      ]
    },
    {
      "cell_type": "markdown",
      "metadata": {
        "id": "JPKI3hv9hoFS"
      },
      "source": [
        "# Installation\n",
        "\n",
        "Pandas often comes bundled within scientific Python distributions such as Anaconda. If your Python distribution does not come with Pandas, you can install Pandas using the Python package installer **pip**. First ensure you activate the Python virtual environment you are using to perform data analysis (for more details about Python virtual environments see https://docs.python.org/3/tutorial/venv.html). Then run the following command from the command line:\n",
        "\n",
        "```console\n",
        "pip install pandas\n",
        "```\n",
        "\n",
        "For more help see check out https://pandas.pydata.org/pandas-docs/stable/getting_started/install.html."
      ]
    },
    {
      "cell_type": "markdown",
      "metadata": {
        "id": "H0z71nDSh8Dv"
      },
      "source": [
        "## Importing pandas\n",
        "\n",
        "Often Pandas is imported with the name **pd** to reference the module."
      ]
    },
    {
      "cell_type": "code",
      "metadata": {
        "id": "yKi0RpNqh4gf"
      },
      "source": [
        "import pandas as pd"
      ],
      "execution_count": null,
      "outputs": []
    },
    {
      "cell_type": "markdown",
      "metadata": {
        "id": "LMnojXBihoFT"
      },
      "source": [
        "# Retrieving Data"
      ]
    },
    {
      "cell_type": "markdown",
      "metadata": {
        "id": "vV5HopXAhoFV"
      },
      "source": [
        "## Retrieving Data within a CSV File"
      ]
    },
    {
      "cell_type": "code",
      "metadata": {
        "colab": {
          "base_uri": "https://localhost:8080/",
          "height": 206
        },
        "id": "ouexfsDIhoFV",
        "outputId": "58905cd8-4886-4308-cc3b-d6180683c4ef"
      },
      "source": [
        "df_housing = pd.read_csv(\"sample_data/california_housing_test.csv\")\n",
        "\n",
        "# display first couple rows\n",
        "df_housing.head()"
      ],
      "execution_count": null,
      "outputs": [
        {
          "output_type": "execute_result",
          "data": {
            "text/html": [
              "<div>\n",
              "<style scoped>\n",
              "    .dataframe tbody tr th:only-of-type {\n",
              "        vertical-align: middle;\n",
              "    }\n",
              "\n",
              "    .dataframe tbody tr th {\n",
              "        vertical-align: top;\n",
              "    }\n",
              "\n",
              "    .dataframe thead th {\n",
              "        text-align: right;\n",
              "    }\n",
              "</style>\n",
              "<table border=\"1\" class=\"dataframe\">\n",
              "  <thead>\n",
              "    <tr style=\"text-align: right;\">\n",
              "      <th></th>\n",
              "      <th>longitude</th>\n",
              "      <th>latitude</th>\n",
              "      <th>housing_median_age</th>\n",
              "      <th>total_rooms</th>\n",
              "      <th>total_bedrooms</th>\n",
              "      <th>population</th>\n",
              "      <th>households</th>\n",
              "      <th>median_income</th>\n",
              "      <th>median_house_value</th>\n",
              "    </tr>\n",
              "  </thead>\n",
              "  <tbody>\n",
              "    <tr>\n",
              "      <th>0</th>\n",
              "      <td>-122.05</td>\n",
              "      <td>37.37</td>\n",
              "      <td>27.0</td>\n",
              "      <td>3885.0</td>\n",
              "      <td>661.0</td>\n",
              "      <td>1537.0</td>\n",
              "      <td>606.0</td>\n",
              "      <td>6.6085</td>\n",
              "      <td>344700.0</td>\n",
              "    </tr>\n",
              "    <tr>\n",
              "      <th>1</th>\n",
              "      <td>-118.30</td>\n",
              "      <td>34.26</td>\n",
              "      <td>43.0</td>\n",
              "      <td>1510.0</td>\n",
              "      <td>310.0</td>\n",
              "      <td>809.0</td>\n",
              "      <td>277.0</td>\n",
              "      <td>3.5990</td>\n",
              "      <td>176500.0</td>\n",
              "    </tr>\n",
              "    <tr>\n",
              "      <th>2</th>\n",
              "      <td>-117.81</td>\n",
              "      <td>33.78</td>\n",
              "      <td>27.0</td>\n",
              "      <td>3589.0</td>\n",
              "      <td>507.0</td>\n",
              "      <td>1484.0</td>\n",
              "      <td>495.0</td>\n",
              "      <td>5.7934</td>\n",
              "      <td>270500.0</td>\n",
              "    </tr>\n",
              "    <tr>\n",
              "      <th>3</th>\n",
              "      <td>-118.36</td>\n",
              "      <td>33.82</td>\n",
              "      <td>28.0</td>\n",
              "      <td>67.0</td>\n",
              "      <td>15.0</td>\n",
              "      <td>49.0</td>\n",
              "      <td>11.0</td>\n",
              "      <td>6.1359</td>\n",
              "      <td>330000.0</td>\n",
              "    </tr>\n",
              "    <tr>\n",
              "      <th>4</th>\n",
              "      <td>-119.67</td>\n",
              "      <td>36.33</td>\n",
              "      <td>19.0</td>\n",
              "      <td>1241.0</td>\n",
              "      <td>244.0</td>\n",
              "      <td>850.0</td>\n",
              "      <td>237.0</td>\n",
              "      <td>2.9375</td>\n",
              "      <td>81700.0</td>\n",
              "    </tr>\n",
              "  </tbody>\n",
              "</table>\n",
              "</div>"
            ],
            "text/plain": [
              "   longitude  latitude  ...  median_income  median_house_value\n",
              "0    -122.05     37.37  ...         6.6085            344700.0\n",
              "1    -118.30     34.26  ...         3.5990            176500.0\n",
              "2    -117.81     33.78  ...         5.7934            270500.0\n",
              "3    -118.36     33.82  ...         6.1359            330000.0\n",
              "4    -119.67     36.33  ...         2.9375             81700.0\n",
              "\n",
              "[5 rows x 9 columns]"
            ]
          },
          "metadata": {},
          "execution_count": 5
        }
      ]
    },
    {
      "cell_type": "markdown",
      "metadata": {
        "id": "FDqnMAothoFW"
      },
      "source": [
        "## Retrieving Data within a SQL Database"
      ]
    },
    {
      "cell_type": "code",
      "metadata": {
        "colab": {
          "base_uri": "https://localhost:8080/",
          "height": 453
        },
        "id": "dTyXb9D9hoFW",
        "outputId": "3a961ad8-f1c2-46a0-e19e-0c60a96e3169"
      },
      "source": [
        "import sqlite3\n",
        " \n",
        "with sqlite3.connect('/content/population.db') as db_con:\n",
        "  query = \"SELECT country, population FROM Population;\"\n",
        "\n",
        "  df_countries = pd.read_sql_query(query, db_con)\n",
        "\n",
        "# display first couple rows\n",
        "df_countries.head()"
      ],
      "execution_count": null,
      "outputs": [
        {
          "output_type": "error",
          "ename": "DatabaseError",
          "evalue": "ignored",
          "traceback": [
            "\u001b[0;31m---------------------------------------------------------------------------\u001b[0m",
            "\u001b[0;31mOperationalError\u001b[0m                          Traceback (most recent call last)",
            "\u001b[0;32m/usr/local/lib/python3.7/dist-packages/pandas/io/sql.py\u001b[0m in \u001b[0;36mexecute\u001b[0;34m(self, *args, **kwargs)\u001b[0m\n\u001b[1;32m   1680\u001b[0m         \u001b[0;32mtry\u001b[0m\u001b[0;34m:\u001b[0m\u001b[0;34m\u001b[0m\u001b[0;34m\u001b[0m\u001b[0m\n\u001b[0;32m-> 1681\u001b[0;31m             \u001b[0mcur\u001b[0m\u001b[0;34m.\u001b[0m\u001b[0mexecute\u001b[0m\u001b[0;34m(\u001b[0m\u001b[0;34m*\u001b[0m\u001b[0margs\u001b[0m\u001b[0;34m,\u001b[0m \u001b[0;34m**\u001b[0m\u001b[0mkwargs\u001b[0m\u001b[0;34m)\u001b[0m\u001b[0;34m\u001b[0m\u001b[0;34m\u001b[0m\u001b[0m\n\u001b[0m\u001b[1;32m   1682\u001b[0m             \u001b[0;32mreturn\u001b[0m \u001b[0mcur\u001b[0m\u001b[0;34m\u001b[0m\u001b[0;34m\u001b[0m\u001b[0m\n",
            "\u001b[0;31mOperationalError\u001b[0m: no such table: Population",
            "\nThe above exception was the direct cause of the following exception:\n",
            "\u001b[0;31mDatabaseError\u001b[0m                             Traceback (most recent call last)",
            "\u001b[0;32m<ipython-input-7-0c6b90d6db0d>\u001b[0m in \u001b[0;36m<module>\u001b[0;34m()\u001b[0m\n\u001b[1;32m      4\u001b[0m   \u001b[0mquery\u001b[0m \u001b[0;34m=\u001b[0m \u001b[0;34m\"SELECT country, population FROM Population;\"\u001b[0m\u001b[0;34m\u001b[0m\u001b[0;34m\u001b[0m\u001b[0m\n\u001b[1;32m      5\u001b[0m \u001b[0;34m\u001b[0m\u001b[0m\n\u001b[0;32m----> 6\u001b[0;31m   \u001b[0mdf_countries\u001b[0m \u001b[0;34m=\u001b[0m \u001b[0mpd\u001b[0m\u001b[0;34m.\u001b[0m\u001b[0mread_sql_query\u001b[0m\u001b[0;34m(\u001b[0m\u001b[0mquery\u001b[0m\u001b[0;34m,\u001b[0m \u001b[0mdb_con\u001b[0m\u001b[0;34m)\u001b[0m\u001b[0;34m\u001b[0m\u001b[0;34m\u001b[0m\u001b[0m\n\u001b[0m\u001b[1;32m      7\u001b[0m \u001b[0;34m\u001b[0m\u001b[0m\n\u001b[1;32m      8\u001b[0m \u001b[0;31m# display first couple rows\u001b[0m\u001b[0;34m\u001b[0m\u001b[0;34m\u001b[0m\u001b[0;34m\u001b[0m\u001b[0m\n",
            "\u001b[0;32m/usr/local/lib/python3.7/dist-packages/pandas/io/sql.py\u001b[0m in \u001b[0;36mread_sql_query\u001b[0;34m(sql, con, index_col, coerce_float, params, parse_dates, chunksize)\u001b[0m\n\u001b[1;32m    381\u001b[0m         \u001b[0mcoerce_float\u001b[0m\u001b[0;34m=\u001b[0m\u001b[0mcoerce_float\u001b[0m\u001b[0;34m,\u001b[0m\u001b[0;34m\u001b[0m\u001b[0;34m\u001b[0m\u001b[0m\n\u001b[1;32m    382\u001b[0m         \u001b[0mparse_dates\u001b[0m\u001b[0;34m=\u001b[0m\u001b[0mparse_dates\u001b[0m\u001b[0;34m,\u001b[0m\u001b[0;34m\u001b[0m\u001b[0;34m\u001b[0m\u001b[0m\n\u001b[0;32m--> 383\u001b[0;31m         \u001b[0mchunksize\u001b[0m\u001b[0;34m=\u001b[0m\u001b[0mchunksize\u001b[0m\u001b[0;34m,\u001b[0m\u001b[0;34m\u001b[0m\u001b[0;34m\u001b[0m\u001b[0m\n\u001b[0m\u001b[1;32m    384\u001b[0m     )\n\u001b[1;32m    385\u001b[0m \u001b[0;34m\u001b[0m\u001b[0m\n",
            "\u001b[0;32m/usr/local/lib/python3.7/dist-packages/pandas/io/sql.py\u001b[0m in \u001b[0;36mread_query\u001b[0;34m(self, sql, index_col, coerce_float, params, parse_dates, chunksize)\u001b[0m\n\u001b[1;32m   1725\u001b[0m \u001b[0;34m\u001b[0m\u001b[0m\n\u001b[1;32m   1726\u001b[0m         \u001b[0margs\u001b[0m \u001b[0;34m=\u001b[0m \u001b[0m_convert_params\u001b[0m\u001b[0;34m(\u001b[0m\u001b[0msql\u001b[0m\u001b[0;34m,\u001b[0m \u001b[0mparams\u001b[0m\u001b[0;34m)\u001b[0m\u001b[0;34m\u001b[0m\u001b[0;34m\u001b[0m\u001b[0m\n\u001b[0;32m-> 1727\u001b[0;31m         \u001b[0mcursor\u001b[0m \u001b[0;34m=\u001b[0m \u001b[0mself\u001b[0m\u001b[0;34m.\u001b[0m\u001b[0mexecute\u001b[0m\u001b[0;34m(\u001b[0m\u001b[0;34m*\u001b[0m\u001b[0margs\u001b[0m\u001b[0;34m)\u001b[0m\u001b[0;34m\u001b[0m\u001b[0;34m\u001b[0m\u001b[0m\n\u001b[0m\u001b[1;32m   1728\u001b[0m         \u001b[0mcolumns\u001b[0m \u001b[0;34m=\u001b[0m \u001b[0;34m[\u001b[0m\u001b[0mcol_desc\u001b[0m\u001b[0;34m[\u001b[0m\u001b[0;36m0\u001b[0m\u001b[0;34m]\u001b[0m \u001b[0;32mfor\u001b[0m \u001b[0mcol_desc\u001b[0m \u001b[0;32min\u001b[0m \u001b[0mcursor\u001b[0m\u001b[0;34m.\u001b[0m\u001b[0mdescription\u001b[0m\u001b[0;34m]\u001b[0m\u001b[0;34m\u001b[0m\u001b[0;34m\u001b[0m\u001b[0m\n\u001b[1;32m   1729\u001b[0m \u001b[0;34m\u001b[0m\u001b[0m\n",
            "\u001b[0;32m/usr/local/lib/python3.7/dist-packages/pandas/io/sql.py\u001b[0m in \u001b[0;36mexecute\u001b[0;34m(self, *args, **kwargs)\u001b[0m\n\u001b[1;32m   1691\u001b[0m \u001b[0;34m\u001b[0m\u001b[0m\n\u001b[1;32m   1692\u001b[0m             \u001b[0mex\u001b[0m \u001b[0;34m=\u001b[0m \u001b[0mDatabaseError\u001b[0m\u001b[0;34m(\u001b[0m\u001b[0;34mf\"Execution failed on sql '{args[0]}': {exc}\"\u001b[0m\u001b[0;34m)\u001b[0m\u001b[0;34m\u001b[0m\u001b[0;34m\u001b[0m\u001b[0m\n\u001b[0;32m-> 1693\u001b[0;31m             \u001b[0;32mraise\u001b[0m \u001b[0mex\u001b[0m \u001b[0;32mfrom\u001b[0m \u001b[0mexc\u001b[0m\u001b[0;34m\u001b[0m\u001b[0;34m\u001b[0m\u001b[0m\n\u001b[0m\u001b[1;32m   1694\u001b[0m \u001b[0;34m\u001b[0m\u001b[0m\n\u001b[1;32m   1695\u001b[0m     \u001b[0;34m@\u001b[0m\u001b[0mstaticmethod\u001b[0m\u001b[0;34m\u001b[0m\u001b[0;34m\u001b[0m\u001b[0m\n",
            "\u001b[0;31mDatabaseError\u001b[0m: Execution failed on sql 'SELECT country, population FROM Population;': no such table: Population"
          ]
        }
      ]
    },
    {
      "cell_type": "markdown",
      "metadata": {
        "id": "nOz_imAIhoFW"
      },
      "source": [
        "## Retrieving Data within a HTML File"
      ]
    },
    {
      "cell_type": "code",
      "metadata": {
        "colab": {
          "base_uri": "https://localhost:8080/",
          "height": 206
        },
        "id": "qbviQhzhhoFX",
        "outputId": "7feb4fb2-c8a3-43bc-e484-2a39653a8cd0"
      },
      "source": [
        "tables = pd.read_html('https://en.wikipedia.org/wiki/Minnesota', match='Election results from statewide races')\n",
        "\n",
        "# get first dataframe extracted from html\n",
        "df_table_MN = tables[0]\n",
        "\n",
        "# display first couple rows\n",
        "df_table_MN.head()"
      ],
      "execution_count": null,
      "outputs": [
        {
          "output_type": "execute_result",
          "data": {
            "text/html": [
              "<div>\n",
              "<style scoped>\n",
              "    .dataframe tbody tr th:only-of-type {\n",
              "        vertical-align: middle;\n",
              "    }\n",
              "\n",
              "    .dataframe tbody tr th {\n",
              "        vertical-align: top;\n",
              "    }\n",
              "\n",
              "    .dataframe thead th {\n",
              "        text-align: right;\n",
              "    }\n",
              "</style>\n",
              "<table border=\"1\" class=\"dataframe\">\n",
              "  <thead>\n",
              "    <tr style=\"text-align: right;\">\n",
              "      <th></th>\n",
              "      <th>Year</th>\n",
              "      <th>Office</th>\n",
              "      <th>GOP</th>\n",
              "      <th>DFL</th>\n",
              "      <th>Others</th>\n",
              "    </tr>\n",
              "  </thead>\n",
              "  <tbody>\n",
              "    <tr>\n",
              "      <th>0</th>\n",
              "      <td>2020</td>\n",
              "      <td>President</td>\n",
              "      <td>45.3%</td>\n",
              "      <td>52.4%</td>\n",
              "      <td>2.3%</td>\n",
              "    </tr>\n",
              "    <tr>\n",
              "      <th>1</th>\n",
              "      <td>2020</td>\n",
              "      <td>Senator</td>\n",
              "      <td>43.5%</td>\n",
              "      <td>48.8%</td>\n",
              "      <td>7.7%</td>\n",
              "    </tr>\n",
              "    <tr>\n",
              "      <th>2</th>\n",
              "      <td>2018</td>\n",
              "      <td>Governor</td>\n",
              "      <td>42.4%</td>\n",
              "      <td>53.9%</td>\n",
              "      <td>3.7%</td>\n",
              "    </tr>\n",
              "    <tr>\n",
              "      <th>3</th>\n",
              "      <td>2018</td>\n",
              "      <td>Senator</td>\n",
              "      <td>36.2%</td>\n",
              "      <td>60.3%</td>\n",
              "      <td>3.4%</td>\n",
              "    </tr>\n",
              "    <tr>\n",
              "      <th>4</th>\n",
              "      <td>2018</td>\n",
              "      <td>Senator</td>\n",
              "      <td>42.4%</td>\n",
              "      <td>53.0%</td>\n",
              "      <td>4.6%</td>\n",
              "    </tr>\n",
              "  </tbody>\n",
              "</table>\n",
              "</div>"
            ],
            "text/plain": [
              "   Year     Office    GOP    DFL Others\n",
              "0  2020  President  45.3%  52.4%   2.3%\n",
              "1  2020    Senator  43.5%  48.8%   7.7%\n",
              "2  2018   Governor  42.4%  53.9%   3.7%\n",
              "3  2018    Senator  36.2%  60.3%   3.4%\n",
              "4  2018    Senator  42.4%  53.0%   4.6%"
            ]
          },
          "metadata": {},
          "execution_count": 8
        }
      ]
    },
    {
      "cell_type": "markdown",
      "metadata": {
        "id": "8ZaMHl8KhoFY"
      },
      "source": [
        "# Creating DataFrames Manually\n",
        "\n",
        "The examples above loaded data into a Pandas DataFrame. If your Python code has the data already in memory, code can be used to load it directly into a Pandas DataFrame."
      ]
    },
    {
      "cell_type": "markdown",
      "metadata": {
        "id": "8FzVfiV2hoFY"
      },
      "source": [
        "## Creating a DataFrame with a Column dict"
      ]
    },
    {
      "cell_type": "code",
      "metadata": {
        "colab": {
          "base_uri": "https://localhost:8080/",
          "height": 206
        },
        "id": "uj472ScNhoFY",
        "outputId": "1e20c42c-a672-4543-819a-720f59d88f03"
      },
      "source": [
        "data_as_column_map = {\n",
        "    \"name\": [\"Bob\",\"Mary\",\"Roy\",\"John\",\"Susie\"],\n",
        "    \"age\": [12,39,59,53,16]\n",
        "}\n",
        "df_people = pd.DataFrame(data_as_column_map)\n",
        "\n",
        "# display first couple rows\n",
        "df_people.head()"
      ],
      "execution_count": null,
      "outputs": [
        {
          "output_type": "execute_result",
          "data": {
            "text/html": [
              "<div>\n",
              "<style scoped>\n",
              "    .dataframe tbody tr th:only-of-type {\n",
              "        vertical-align: middle;\n",
              "    }\n",
              "\n",
              "    .dataframe tbody tr th {\n",
              "        vertical-align: top;\n",
              "    }\n",
              "\n",
              "    .dataframe thead th {\n",
              "        text-align: right;\n",
              "    }\n",
              "</style>\n",
              "<table border=\"1\" class=\"dataframe\">\n",
              "  <thead>\n",
              "    <tr style=\"text-align: right;\">\n",
              "      <th></th>\n",
              "      <th>name</th>\n",
              "      <th>age</th>\n",
              "    </tr>\n",
              "  </thead>\n",
              "  <tbody>\n",
              "    <tr>\n",
              "      <th>0</th>\n",
              "      <td>Bob</td>\n",
              "      <td>12</td>\n",
              "    </tr>\n",
              "    <tr>\n",
              "      <th>1</th>\n",
              "      <td>Mary</td>\n",
              "      <td>39</td>\n",
              "    </tr>\n",
              "    <tr>\n",
              "      <th>2</th>\n",
              "      <td>Roy</td>\n",
              "      <td>59</td>\n",
              "    </tr>\n",
              "    <tr>\n",
              "      <th>3</th>\n",
              "      <td>John</td>\n",
              "      <td>53</td>\n",
              "    </tr>\n",
              "    <tr>\n",
              "      <th>4</th>\n",
              "      <td>Susie</td>\n",
              "      <td>16</td>\n",
              "    </tr>\n",
              "  </tbody>\n",
              "</table>\n",
              "</div>"
            ],
            "text/plain": [
              "    name  age\n",
              "0    Bob   12\n",
              "1   Mary   39\n",
              "2    Roy   59\n",
              "3   John   53\n",
              "4  Susie   16"
            ]
          },
          "metadata": {},
          "execution_count": 15
        }
      ]
    },
    {
      "cell_type": "markdown",
      "metadata": {
        "id": "W8f1TuuUhoFZ"
      },
      "source": [
        "## Creating a DataFrame with a list of Rows"
      ]
    },
    {
      "cell_type": "code",
      "metadata": {
        "colab": {
          "base_uri": "https://localhost:8080/",
          "height": 206
        },
        "id": "bqKKzMKAhoFZ",
        "outputId": "28ed461c-dce5-4a48-abf6-c68e698c5837"
      },
      "source": [
        "data_as_rows = [[\"Bob\", 12], [\"Mary\",39], [\"Roy\", 59], [\"John\", 53], [\"Susie\", 16]]\n",
        "\n",
        "df_people = pd.DataFrame(columns=[\"name\",\"age\"], data=data_as_rows)\n",
        "\n",
        "# display first couple rows\n",
        "df_people.head()"
      ],
      "execution_count": null,
      "outputs": [
        {
          "output_type": "execute_result",
          "data": {
            "text/html": [
              "<div>\n",
              "<style scoped>\n",
              "    .dataframe tbody tr th:only-of-type {\n",
              "        vertical-align: middle;\n",
              "    }\n",
              "\n",
              "    .dataframe tbody tr th {\n",
              "        vertical-align: top;\n",
              "    }\n",
              "\n",
              "    .dataframe thead th {\n",
              "        text-align: right;\n",
              "    }\n",
              "</style>\n",
              "<table border=\"1\" class=\"dataframe\">\n",
              "  <thead>\n",
              "    <tr style=\"text-align: right;\">\n",
              "      <th></th>\n",
              "      <th>name</th>\n",
              "      <th>age</th>\n",
              "    </tr>\n",
              "  </thead>\n",
              "  <tbody>\n",
              "    <tr>\n",
              "      <th>0</th>\n",
              "      <td>Bob</td>\n",
              "      <td>12</td>\n",
              "    </tr>\n",
              "    <tr>\n",
              "      <th>1</th>\n",
              "      <td>Mary</td>\n",
              "      <td>39</td>\n",
              "    </tr>\n",
              "    <tr>\n",
              "      <th>2</th>\n",
              "      <td>Roy</td>\n",
              "      <td>59</td>\n",
              "    </tr>\n",
              "    <tr>\n",
              "      <th>3</th>\n",
              "      <td>John</td>\n",
              "      <td>53</td>\n",
              "    </tr>\n",
              "    <tr>\n",
              "      <th>4</th>\n",
              "      <td>Susie</td>\n",
              "      <td>16</td>\n",
              "    </tr>\n",
              "  </tbody>\n",
              "</table>\n",
              "</div>"
            ],
            "text/plain": [
              "    name  age\n",
              "0    Bob   12\n",
              "1   Mary   39\n",
              "2    Roy   59\n",
              "3   John   53\n",
              "4  Susie   16"
            ]
          },
          "metadata": {},
          "execution_count": 16
        }
      ]
    },
    {
      "cell_type": "markdown",
      "metadata": {
        "id": "-LL8TCDChoFZ"
      },
      "source": [
        "# DataFrame Structure\n",
        "\n",
        "[Series](https://pandas.pydata.org/docs/reference/api/pandas.Series.html) objects are used to represent single dimension data, for instance a single column of data or a single row of data.\n",
        "\n",
        "[DataFrame](https://pandas.pydata.org/docs/reference/frame.html) objects are used to represent multiple rows and columns of data."
      ]
    },
    {
      "cell_type": "code",
      "metadata": {
        "colab": {
          "base_uri": "https://localhost:8080/"
        },
        "id": "Zr9FhTu5hoFZ",
        "outputId": "d7a99172-99ea-4f5e-b123-d698da8d460a"
      },
      "source": [
        "print(f\"df_people is an instance of {type(df_people)}\")\n",
        "print(\"\")\n",
        "print(f\"Every dataframe has a row index, for instance df_people's row index is  {df_people.index}. This index provides a means to uniquely locate rows.\")\n",
        "print(\"\")\n",
        "print(f\"Every dataframe has a column index, for instance df_people's column index is  {df_people.columns}. This index provides a means to uniquely locate columns.\")\n",
        "print(\"\")"
      ],
      "execution_count": null,
      "outputs": [
        {
          "output_type": "stream",
          "name": "stdout",
          "text": [
            "df_people is an instance of <class 'pandas.core.frame.DataFrame'>\n",
            "\n",
            "Every dataframe has a row index, for instance df_people's row index is  RangeIndex(start=0, stop=5, step=1). The index that provides a means to uniquely locate rows.\n",
            "\n",
            "Every dataframe has a column index, for instance df_people's column index is  Index(['name', 'age'], dtype='object'). The index that provides a means to uniquely locate columns.\n",
            "\n"
          ]
        }
      ]
    },
    {
      "cell_type": "markdown",
      "metadata": {
        "id": "sbiWB40JhoFa"
      },
      "source": [
        "# Accessing Data in a DataFrame"
      ]
    },
    {
      "cell_type": "markdown",
      "metadata": {
        "id": "wH2RiADIhoFa"
      },
      "source": [
        "## Accessing Columns in a DataFrame"
      ]
    },
    {
      "cell_type": "code",
      "metadata": {
        "colab": {
          "base_uri": "https://localhost:8080/"
        },
        "id": "IKGn3uvFhoFa",
        "outputId": "2449b0c1-32d3-4409-f820-7d7c8e6fc78c"
      },
      "source": [
        "s_name = df_people[\"name\"]\n",
        "\n",
        "print(f\"Use the square brackets to retrive column data; for instance the column name is an instance of {type(s_name)}\")\n",
        "print(\"\")\n",
        "# display first couple data points in column\n",
        "s_name.head()"
      ],
      "execution_count": null,
      "outputs": [
        {
          "output_type": "stream",
          "name": "stdout",
          "text": [
            "Use the square brackets to retrive column data; for instance the column name is an instance of <class 'pandas.core.series.Series'>\n",
            "\n"
          ]
        },
        {
          "output_type": "execute_result",
          "data": {
            "text/plain": [
              "0      Bob\n",
              "1     Mary\n",
              "2      Roy\n",
              "3     John\n",
              "4    Susie\n",
              "Name: name, dtype: object"
            ]
          },
          "metadata": {},
          "execution_count": 43
        }
      ]
    },
    {
      "cell_type": "code",
      "metadata": {
        "colab": {
          "base_uri": "https://localhost:8080/"
        },
        "id": "9I-boyw7ulYi",
        "outputId": "8d5d379c-3d36-44ed-ee55-3379ee226229"
      },
      "source": [
        "# You can also access the column Series objects using the dot attribute notation\n",
        "s_name = df_people.name\n",
        "\n",
        "s_name"
      ],
      "execution_count": null,
      "outputs": [
        {
          "output_type": "execute_result",
          "data": {
            "text/plain": [
              "0      Bob\n",
              "1     Mary\n",
              "2      Roy\n",
              "3     John\n",
              "4    Susie\n",
              "Name: name, dtype: object"
            ]
          },
          "metadata": {},
          "execution_count": 61
        }
      ]
    },
    {
      "cell_type": "code",
      "metadata": {
        "colab": {
          "base_uri": "https://localhost:8080/",
          "height": 35
        },
        "id": "F-qtGeWhrxaG",
        "outputId": "955f44b2-401b-462c-8efa-5057515f2238"
      },
      "source": [
        "# notice even Series objects have an index, in this case, based on the row index\n",
        "\n",
        "# we can select a row data point use the index with brackets\n",
        "s_name[0]"
      ],
      "execution_count": null,
      "outputs": [
        {
          "output_type": "execute_result",
          "data": {
            "application/vnd.google.colaboratory.intrinsic+json": {
              "type": "string"
            },
            "text/plain": [
              "'Bob'"
            ]
          },
          "metadata": {},
          "execution_count": 47
        }
      ]
    },
    {
      "cell_type": "markdown",
      "metadata": {
        "id": "fMwB87cyqnRc"
      },
      "source": [
        "## Accessing Rows in a DataFrame"
      ]
    },
    {
      "cell_type": "code",
      "metadata": {
        "colab": {
          "base_uri": "https://localhost:8080/"
        },
        "id": "l1ifx9MSqrAM",
        "outputId": "06819acf-796e-42f3-a654-95846d51009d"
      },
      "source": [
        "s_row_1 = df_people.loc[0]\n",
        "\n",
        "print(f\"Use loc to select a specific row; for instance row 0 is an instance of {type(s_row_1)}\")\n",
        "print(\"\")\n",
        "\n",
        "# display data in row\n",
        "s_row_1"
      ],
      "execution_count": null,
      "outputs": [
        {
          "output_type": "stream",
          "name": "stdout",
          "text": [
            "Use loc to select a specific row; for instance row 0 is an instance of <class 'pandas.core.series.Series'>\n",
            "\n"
          ]
        },
        {
          "output_type": "execute_result",
          "data": {
            "text/plain": [
              "name    Bob\n",
              "age      12\n",
              "Name: 0, dtype: object"
            ]
          },
          "metadata": {},
          "execution_count": 45
        }
      ]
    },
    {
      "cell_type": "code",
      "metadata": {
        "colab": {
          "base_uri": "https://localhost:8080/",
          "height": 35
        },
        "id": "n-qaxPIzr0F0",
        "outputId": "36694f80-ee4c-46d1-d0cb-9a953429bab3"
      },
      "source": [
        "# notice the row Series index object is based on the columns\n",
        "\n",
        "# we can select a column use the index with brackets\n",
        "s_row_1[\"name\"]"
      ],
      "execution_count": null,
      "outputs": [
        {
          "output_type": "execute_result",
          "data": {
            "application/vnd.google.colaboratory.intrinsic+json": {
              "type": "string"
            },
            "text/plain": [
              "'Bob'"
            ]
          },
          "metadata": {},
          "execution_count": 46
        }
      ]
    },
    {
      "cell_type": "markdown",
      "metadata": {
        "id": "_MRCv9SUtOUK"
      },
      "source": [
        "## Accessing Data by Index"
      ]
    },
    {
      "cell_type": "code",
      "metadata": {
        "colab": {
          "base_uri": "https://localhost:8080/"
        },
        "id": "aCoCKCukr_qR",
        "outputId": "26e37722-f2db-43ff-c7e7-2354c0c185cc"
      },
      "source": [
        "# sometimes we want a Series within a dataframe based on the order within the index, we use iloc to do this\n",
        "s_row_1_using_order = df_people.iloc[0]\n",
        "\n",
        "s_row_1_using_order"
      ],
      "execution_count": null,
      "outputs": [
        {
          "output_type": "execute_result",
          "data": {
            "text/plain": [
              "name    Bob\n",
              "age      12\n",
              "Name: 0, dtype: object"
            ]
          },
          "metadata": {},
          "execution_count": 56
        }
      ]
    },
    {
      "cell_type": "code",
      "metadata": {
        "colab": {
          "base_uri": "https://localhost:8080/",
          "height": 35
        },
        "id": "ISVA5NAlsVTv",
        "outputId": "b29aabbc-7086-4984-b31c-bc2e5dabca30"
      },
      "source": [
        "# also works for a row based series index\n",
        "s_row_1.iloc[0]"
      ],
      "execution_count": null,
      "outputs": [
        {
          "output_type": "execute_result",
          "data": {
            "application/vnd.google.colaboratory.intrinsic+json": {
              "type": "string"
            },
            "text/plain": [
              "'Bob'"
            ]
          },
          "metadata": {},
          "execution_count": 55
        }
      ]
    },
    {
      "cell_type": "code",
      "metadata": {
        "colab": {
          "base_uri": "https://localhost:8080/",
          "height": 35
        },
        "id": "yQtDxDZXsqR9",
        "outputId": "e65c809e-d19e-47d0-adde-3b12a8196d8f"
      },
      "source": [
        "# In the case the above, this is the same as below\n",
        "s_row_1.loc[\"name\"]"
      ],
      "execution_count": null,
      "outputs": [
        {
          "output_type": "execute_result",
          "data": {
            "application/vnd.google.colaboratory.intrinsic+json": {
              "type": "string"
            },
            "text/plain": [
              "'Bob'"
            ]
          },
          "metadata": {},
          "execution_count": 58
        }
      ]
    },
    {
      "cell_type": "markdown",
      "metadata": {
        "id": "DRpkWYrwhoFa"
      },
      "source": [
        "## Iterating over the Rows in a DataFrame"
      ]
    },
    {
      "cell_type": "code",
      "metadata": {
        "colab": {
          "base_uri": "https://localhost:8080/"
        },
        "id": "5odjYDTbhoFb",
        "outputId": "c48fda83-b299-4e6d-976c-5e96f74c0483"
      },
      "source": [
        "for s_row in df_people.iterrows():\n",
        "  print(s_row)"
      ],
      "execution_count": null,
      "outputs": [
        {
          "output_type": "stream",
          "name": "stdout",
          "text": [
            "(0, name    Bob\n",
            "age      12\n",
            "Name: 0, dtype: object)\n",
            "(1, name    Mary\n",
            "age       39\n",
            "Name: 1, dtype: object)\n",
            "(2, name    Roy\n",
            "age      59\n",
            "Name: 2, dtype: object)\n",
            "(3, name    John\n",
            "age       53\n",
            "Name: 3, dtype: object)\n",
            "(4, name    Susie\n",
            "age        16\n",
            "Name: 4, dtype: object)\n"
          ]
        }
      ]
    },
    {
      "cell_type": "markdown",
      "metadata": {
        "id": "n57K260rhoFb"
      },
      "source": [
        "# Addressing Quality Issues"
      ]
    },
    {
      "cell_type": "markdown",
      "metadata": {
        "id": "VVw_HRbrhoFb"
      },
      "source": [
        "## Addressing Missing Data\n",
        "\n",
        "[Missing Data User Guide](https://pandas.pydata.org/pandas-docs/stable/user_guide/missing_data.html)"
      ]
    },
    {
      "cell_type": "markdown",
      "metadata": {
        "id": "posKugIahoFc"
      },
      "source": [
        "## Addressing Text Data\n",
        "\n",
        "[Text User Guide](https://pandas.pydata.org/pandas-docs/stable/user_guide/text.html)"
      ]
    },
    {
      "cell_type": "markdown",
      "metadata": {
        "id": "uKEX29SNhoFd"
      },
      "source": [
        "# Performing Computations"
      ]
    },
    {
      "cell_type": "markdown",
      "metadata": {
        "id": "sv20heEPhoFd"
      },
      "source": [
        "## Multi-Column Computations"
      ]
    },
    {
      "cell_type": "code",
      "metadata": {
        "colab": {
          "base_uri": "https://localhost:8080/"
        },
        "id": "BMGKTj0ChoFd",
        "outputId": "a297a488-97aa-4c0a-fd04-52ca635ef8f1"
      },
      "source": [
        "# apply row computations for each row with specifing axis=1\n",
        "s_magic_number = df_people.apply(lambda s_row : len(s_row[\"name\"]) + s_row[\"age\"], axis=1)\n",
        "\n",
        "print(type(s_magic_number))\n",
        "print(\"\")\n",
        "\n",
        "s_magic_number"
      ],
      "execution_count": null,
      "outputs": [
        {
          "output_type": "stream",
          "name": "stdout",
          "text": [
            "<class 'pandas.core.series.Series'>\n",
            "\n"
          ]
        },
        {
          "output_type": "execute_result",
          "data": {
            "text/plain": [
              "0    15\n",
              "1    43\n",
              "2    62\n",
              "3    57\n",
              "4    21\n",
              "dtype: int64"
            ]
          },
          "metadata": {},
          "execution_count": 86
        }
      ]
    },
    {
      "cell_type": "markdown",
      "metadata": {
        "id": "7kn06GmRhoFd"
      },
      "source": [
        "## Single Column Computations"
      ]
    },
    {
      "cell_type": "code",
      "metadata": {
        "colab": {
          "base_uri": "https://localhost:8080/"
        },
        "id": "T_pjjXwohoFd",
        "outputId": "6a527f08-eef6-44e3-f334-ffc603aa5271"
      },
      "source": [
        "s_name_length = df_people.name.apply(lambda single_name : len(single_name))\n",
        "\n",
        "print(type(s_name_length))\n",
        "print(\"\")\n",
        "\n",
        "s_name_length"
      ],
      "execution_count": null,
      "outputs": [
        {
          "output_type": "stream",
          "name": "stdout",
          "text": [
            "<class 'pandas.core.series.Series'>\n",
            "\n"
          ]
        },
        {
          "output_type": "execute_result",
          "data": {
            "text/plain": [
              "0    3\n",
              "1    4\n",
              "2    3\n",
              "3    4\n",
              "4    5\n",
              "Name: name, dtype: int64"
            ]
          },
          "metadata": {},
          "execution_count": 79
        }
      ]
    },
    {
      "cell_type": "code",
      "metadata": {
        "colab": {
          "base_uri": "https://localhost:8080/",
          "height": 206
        },
        "id": "hgLn7uxnw-ng",
        "outputId": "dea46754-d888-4cae-f2f2-6719dfd126b0"
      },
      "source": [
        "# you can merge series back into data frame since their indexes match\n",
        "\n",
        "df_people[\"name_length\"] = s_name_length\n",
        "\n",
        "df_people"
      ],
      "execution_count": null,
      "outputs": [
        {
          "output_type": "execute_result",
          "data": {
            "text/html": [
              "<div>\n",
              "<style scoped>\n",
              "    .dataframe tbody tr th:only-of-type {\n",
              "        vertical-align: middle;\n",
              "    }\n",
              "\n",
              "    .dataframe tbody tr th {\n",
              "        vertical-align: top;\n",
              "    }\n",
              "\n",
              "    .dataframe thead th {\n",
              "        text-align: right;\n",
              "    }\n",
              "</style>\n",
              "<table border=\"1\" class=\"dataframe\">\n",
              "  <thead>\n",
              "    <tr style=\"text-align: right;\">\n",
              "      <th></th>\n",
              "      <th>name</th>\n",
              "      <th>age</th>\n",
              "      <th>name_length</th>\n",
              "    </tr>\n",
              "  </thead>\n",
              "  <tbody>\n",
              "    <tr>\n",
              "      <th>0</th>\n",
              "      <td>Bob</td>\n",
              "      <td>12</td>\n",
              "      <td>3</td>\n",
              "    </tr>\n",
              "    <tr>\n",
              "      <th>1</th>\n",
              "      <td>Mary</td>\n",
              "      <td>39</td>\n",
              "      <td>4</td>\n",
              "    </tr>\n",
              "    <tr>\n",
              "      <th>2</th>\n",
              "      <td>Roy</td>\n",
              "      <td>59</td>\n",
              "      <td>3</td>\n",
              "    </tr>\n",
              "    <tr>\n",
              "      <th>3</th>\n",
              "      <td>John</td>\n",
              "      <td>53</td>\n",
              "      <td>4</td>\n",
              "    </tr>\n",
              "    <tr>\n",
              "      <th>4</th>\n",
              "      <td>Susie</td>\n",
              "      <td>16</td>\n",
              "      <td>5</td>\n",
              "    </tr>\n",
              "  </tbody>\n",
              "</table>\n",
              "</div>"
            ],
            "text/plain": [
              "    name  age  name_length\n",
              "0    Bob   12            3\n",
              "1   Mary   39            4\n",
              "2    Roy   59            3\n",
              "3   John   53            4\n",
              "4  Susie   16            5"
            ]
          },
          "metadata": {},
          "execution_count": 81
        }
      ]
    },
    {
      "cell_type": "markdown",
      "metadata": {
        "id": "1Q0wYpR_hoFd"
      },
      "source": [
        "# Filtering"
      ]
    },
    {
      "cell_type": "markdown",
      "metadata": {
        "id": "O8LtsyxlhoFe"
      },
      "source": [
        "## Single Condition Filtering"
      ]
    },
    {
      "cell_type": "code",
      "metadata": {
        "colab": {
          "base_uri": "https://localhost:8080/",
          "height": 147
        },
        "id": "vTSUcyrkhoFe",
        "outputId": "14ba032f-719a-4b0e-e732-457ec0b4d6fa"
      },
      "source": [
        "df_people_old = df_people[df_people.age > 40]\n",
        "\n",
        "print(type(df_people_old))\n",
        "print(\"\")\n",
        "\n",
        "df_people_old"
      ],
      "execution_count": null,
      "outputs": [
        {
          "output_type": "stream",
          "name": "stdout",
          "text": [
            "<class 'pandas.core.frame.DataFrame'>\n",
            "\n"
          ]
        },
        {
          "output_type": "execute_result",
          "data": {
            "text/html": [
              "<div>\n",
              "<style scoped>\n",
              "    .dataframe tbody tr th:only-of-type {\n",
              "        vertical-align: middle;\n",
              "    }\n",
              "\n",
              "    .dataframe tbody tr th {\n",
              "        vertical-align: top;\n",
              "    }\n",
              "\n",
              "    .dataframe thead th {\n",
              "        text-align: right;\n",
              "    }\n",
              "</style>\n",
              "<table border=\"1\" class=\"dataframe\">\n",
              "  <thead>\n",
              "    <tr style=\"text-align: right;\">\n",
              "      <th></th>\n",
              "      <th>name</th>\n",
              "      <th>age</th>\n",
              "    </tr>\n",
              "  </thead>\n",
              "  <tbody>\n",
              "    <tr>\n",
              "      <th>2</th>\n",
              "      <td>Roy</td>\n",
              "      <td>59</td>\n",
              "    </tr>\n",
              "    <tr>\n",
              "      <th>3</th>\n",
              "      <td>John</td>\n",
              "      <td>53</td>\n",
              "    </tr>\n",
              "  </tbody>\n",
              "</table>\n",
              "</div>"
            ],
            "text/plain": [
              "   name  age\n",
              "2   Roy   59\n",
              "3  John   53"
            ]
          },
          "metadata": {},
          "execution_count": 64
        }
      ]
    },
    {
      "cell_type": "markdown",
      "metadata": {
        "id": "u2LR-eSnhoFe"
      },
      "source": [
        "## Complex Condition Filtering"
      ]
    },
    {
      "cell_type": "code",
      "metadata": {
        "colab": {
          "base_uri": "https://localhost:8080/",
          "height": 210
        },
        "id": "iGyovfIwhoFe",
        "outputId": "d4d31f9e-63c1-4e5f-90b7-f1a2c32ca6a3"
      },
      "source": [
        "df_people_young_or_roy = df_people[(df_people.age < 40) | (df_people.name == \"Roy\")]\n",
        "\n",
        "print(type(df_people_young_or_roy))\n",
        "print(\"\")\n",
        "\n",
        "df_people_young_or_roy"
      ],
      "execution_count": null,
      "outputs": [
        {
          "output_type": "stream",
          "name": "stdout",
          "text": [
            "<class 'pandas.core.frame.DataFrame'>\n",
            "\n"
          ]
        },
        {
          "output_type": "execute_result",
          "data": {
            "text/html": [
              "<div>\n",
              "<style scoped>\n",
              "    .dataframe tbody tr th:only-of-type {\n",
              "        vertical-align: middle;\n",
              "    }\n",
              "\n",
              "    .dataframe tbody tr th {\n",
              "        vertical-align: top;\n",
              "    }\n",
              "\n",
              "    .dataframe thead th {\n",
              "        text-align: right;\n",
              "    }\n",
              "</style>\n",
              "<table border=\"1\" class=\"dataframe\">\n",
              "  <thead>\n",
              "    <tr style=\"text-align: right;\">\n",
              "      <th></th>\n",
              "      <th>name</th>\n",
              "      <th>age</th>\n",
              "    </tr>\n",
              "  </thead>\n",
              "  <tbody>\n",
              "    <tr>\n",
              "      <th>0</th>\n",
              "      <td>Bob</td>\n",
              "      <td>12</td>\n",
              "    </tr>\n",
              "    <tr>\n",
              "      <th>1</th>\n",
              "      <td>Mary</td>\n",
              "      <td>39</td>\n",
              "    </tr>\n",
              "    <tr>\n",
              "      <th>2</th>\n",
              "      <td>Roy</td>\n",
              "      <td>59</td>\n",
              "    </tr>\n",
              "    <tr>\n",
              "      <th>4</th>\n",
              "      <td>Susie</td>\n",
              "      <td>16</td>\n",
              "    </tr>\n",
              "  </tbody>\n",
              "</table>\n",
              "</div>"
            ],
            "text/plain": [
              "    name  age\n",
              "0    Bob   12\n",
              "1   Mary   39\n",
              "2    Roy   59\n",
              "4  Susie   16"
            ]
          },
          "metadata": {},
          "execution_count": 70
        }
      ]
    },
    {
      "cell_type": "code",
      "metadata": {
        "colab": {
          "base_uri": "https://localhost:8080/",
          "height": 147
        },
        "id": "Iw-FjJlSwAhh",
        "outputId": "9fb3777b-13a3-4d68-c625-38ea04283796"
      },
      "source": [
        "df_people_young_and_name_longer_than_3_characters = df_people[(df_people.age < 40) & (df_people.name.apply(lambda single_name : len(single_name)) > 3)]\n",
        "\n",
        "print(type(df_people_young_and_name_longer_than_3_characters))\n",
        "print(\"\")\n",
        "\n",
        "df_people_young_and_name_longer_than_3_characters"
      ],
      "execution_count": null,
      "outputs": [
        {
          "output_type": "stream",
          "name": "stdout",
          "text": [
            "<class 'pandas.core.frame.DataFrame'>\n",
            "\n"
          ]
        },
        {
          "output_type": "execute_result",
          "data": {
            "text/html": [
              "<div>\n",
              "<style scoped>\n",
              "    .dataframe tbody tr th:only-of-type {\n",
              "        vertical-align: middle;\n",
              "    }\n",
              "\n",
              "    .dataframe tbody tr th {\n",
              "        vertical-align: top;\n",
              "    }\n",
              "\n",
              "    .dataframe thead th {\n",
              "        text-align: right;\n",
              "    }\n",
              "</style>\n",
              "<table border=\"1\" class=\"dataframe\">\n",
              "  <thead>\n",
              "    <tr style=\"text-align: right;\">\n",
              "      <th></th>\n",
              "      <th>name</th>\n",
              "      <th>age</th>\n",
              "    </tr>\n",
              "  </thead>\n",
              "  <tbody>\n",
              "    <tr>\n",
              "      <th>1</th>\n",
              "      <td>Mary</td>\n",
              "      <td>39</td>\n",
              "    </tr>\n",
              "    <tr>\n",
              "      <th>4</th>\n",
              "      <td>Susie</td>\n",
              "      <td>16</td>\n",
              "    </tr>\n",
              "  </tbody>\n",
              "</table>\n",
              "</div>"
            ],
            "text/plain": [
              "    name  age\n",
              "1   Mary   39\n",
              "4  Susie   16"
            ]
          },
          "metadata": {},
          "execution_count": 74
        }
      ]
    },
    {
      "cell_type": "markdown",
      "metadata": {
        "id": "RRvyfrH_hoFe"
      },
      "source": [
        "# Sorting"
      ]
    },
    {
      "cell_type": "code",
      "metadata": {
        "colab": {
          "base_uri": "https://localhost:8080/",
          "height": 241
        },
        "id": "2XoRBLz8yMcx",
        "outputId": "f76e4270-efe9-4226-b0ab-98ae0f4ef5d9"
      },
      "source": [
        "df_people_sorted_by_name = df_people.sort_values(\"name\")\n",
        "\n",
        "print(type(df_people_sorted_by_name))\n",
        "print(\"\")\n",
        "\n",
        "df_people_sorted_by_name"
      ],
      "execution_count": null,
      "outputs": [
        {
          "output_type": "stream",
          "name": "stdout",
          "text": [
            "<class 'pandas.core.frame.DataFrame'>\n",
            "\n"
          ]
        },
        {
          "output_type": "execute_result",
          "data": {
            "text/html": [
              "<div>\n",
              "<style scoped>\n",
              "    .dataframe tbody tr th:only-of-type {\n",
              "        vertical-align: middle;\n",
              "    }\n",
              "\n",
              "    .dataframe tbody tr th {\n",
              "        vertical-align: top;\n",
              "    }\n",
              "\n",
              "    .dataframe thead th {\n",
              "        text-align: right;\n",
              "    }\n",
              "</style>\n",
              "<table border=\"1\" class=\"dataframe\">\n",
              "  <thead>\n",
              "    <tr style=\"text-align: right;\">\n",
              "      <th></th>\n",
              "      <th>name</th>\n",
              "      <th>age</th>\n",
              "      <th>name_length</th>\n",
              "    </tr>\n",
              "  </thead>\n",
              "  <tbody>\n",
              "    <tr>\n",
              "      <th>0</th>\n",
              "      <td>Bob</td>\n",
              "      <td>12</td>\n",
              "      <td>3</td>\n",
              "    </tr>\n",
              "    <tr>\n",
              "      <th>3</th>\n",
              "      <td>John</td>\n",
              "      <td>53</td>\n",
              "      <td>4</td>\n",
              "    </tr>\n",
              "    <tr>\n",
              "      <th>1</th>\n",
              "      <td>Mary</td>\n",
              "      <td>39</td>\n",
              "      <td>4</td>\n",
              "    </tr>\n",
              "    <tr>\n",
              "      <th>2</th>\n",
              "      <td>Roy</td>\n",
              "      <td>59</td>\n",
              "      <td>3</td>\n",
              "    </tr>\n",
              "    <tr>\n",
              "      <th>4</th>\n",
              "      <td>Susie</td>\n",
              "      <td>16</td>\n",
              "      <td>5</td>\n",
              "    </tr>\n",
              "  </tbody>\n",
              "</table>\n",
              "</div>"
            ],
            "text/plain": [
              "    name  age  name_length\n",
              "0    Bob   12            3\n",
              "3   John   53            4\n",
              "1   Mary   39            4\n",
              "2    Roy   59            3\n",
              "4  Susie   16            5"
            ]
          },
          "metadata": {},
          "execution_count": 93
        }
      ]
    },
    {
      "cell_type": "code",
      "metadata": {
        "colab": {
          "base_uri": "https://localhost:8080/",
          "height": 206
        },
        "id": "3GRCJ23ayr7Z",
        "outputId": "a85f58ce-32c9-4665-cf66-1d1d1e69c796"
      },
      "source": [
        "# Notice the original data frame is still unsorted\n",
        "df_people"
      ],
      "execution_count": null,
      "outputs": [
        {
          "output_type": "execute_result",
          "data": {
            "text/html": [
              "<div>\n",
              "<style scoped>\n",
              "    .dataframe tbody tr th:only-of-type {\n",
              "        vertical-align: middle;\n",
              "    }\n",
              "\n",
              "    .dataframe tbody tr th {\n",
              "        vertical-align: top;\n",
              "    }\n",
              "\n",
              "    .dataframe thead th {\n",
              "        text-align: right;\n",
              "    }\n",
              "</style>\n",
              "<table border=\"1\" class=\"dataframe\">\n",
              "  <thead>\n",
              "    <tr style=\"text-align: right;\">\n",
              "      <th></th>\n",
              "      <th>name</th>\n",
              "      <th>age</th>\n",
              "      <th>name_length</th>\n",
              "    </tr>\n",
              "  </thead>\n",
              "  <tbody>\n",
              "    <tr>\n",
              "      <th>0</th>\n",
              "      <td>Bob</td>\n",
              "      <td>12</td>\n",
              "      <td>3</td>\n",
              "    </tr>\n",
              "    <tr>\n",
              "      <th>4</th>\n",
              "      <td>Susie</td>\n",
              "      <td>16</td>\n",
              "      <td>5</td>\n",
              "    </tr>\n",
              "    <tr>\n",
              "      <th>1</th>\n",
              "      <td>Mary</td>\n",
              "      <td>39</td>\n",
              "      <td>4</td>\n",
              "    </tr>\n",
              "    <tr>\n",
              "      <th>3</th>\n",
              "      <td>John</td>\n",
              "      <td>53</td>\n",
              "      <td>4</td>\n",
              "    </tr>\n",
              "    <tr>\n",
              "      <th>2</th>\n",
              "      <td>Roy</td>\n",
              "      <td>59</td>\n",
              "      <td>3</td>\n",
              "    </tr>\n",
              "  </tbody>\n",
              "</table>\n",
              "</div>"
            ],
            "text/plain": [
              "    name  age  name_length\n",
              "0    Bob   12            3\n",
              "4  Susie   16            5\n",
              "1   Mary   39            4\n",
              "3   John   53            4\n",
              "2    Roy   59            3"
            ]
          },
          "metadata": {},
          "execution_count": 95
        }
      ]
    },
    {
      "cell_type": "code",
      "metadata": {
        "colab": {
          "base_uri": "https://localhost:8080/",
          "height": 206
        },
        "id": "r1lcxqkiyhBc",
        "outputId": "f0698013-d2db-4122-f024-bc6cf3230672"
      },
      "source": [
        "# Specifying inplace to True mutates the DataFrame\n",
        "df_people.sort_values(\"age\", inplace=True)\n",
        "\n",
        "df_people\n",
        "# This avoids using more memory; this can be really important if your dataset is large or your have limited memory in your computer"
      ],
      "execution_count": null,
      "outputs": [
        {
          "output_type": "execute_result",
          "data": {
            "text/html": [
              "<div>\n",
              "<style scoped>\n",
              "    .dataframe tbody tr th:only-of-type {\n",
              "        vertical-align: middle;\n",
              "    }\n",
              "\n",
              "    .dataframe tbody tr th {\n",
              "        vertical-align: top;\n",
              "    }\n",
              "\n",
              "    .dataframe thead th {\n",
              "        text-align: right;\n",
              "    }\n",
              "</style>\n",
              "<table border=\"1\" class=\"dataframe\">\n",
              "  <thead>\n",
              "    <tr style=\"text-align: right;\">\n",
              "      <th></th>\n",
              "      <th>name</th>\n",
              "      <th>age</th>\n",
              "      <th>name_length</th>\n",
              "    </tr>\n",
              "  </thead>\n",
              "  <tbody>\n",
              "    <tr>\n",
              "      <th>0</th>\n",
              "      <td>Bob</td>\n",
              "      <td>12</td>\n",
              "      <td>3</td>\n",
              "    </tr>\n",
              "    <tr>\n",
              "      <th>4</th>\n",
              "      <td>Susie</td>\n",
              "      <td>16</td>\n",
              "      <td>5</td>\n",
              "    </tr>\n",
              "    <tr>\n",
              "      <th>1</th>\n",
              "      <td>Mary</td>\n",
              "      <td>39</td>\n",
              "      <td>4</td>\n",
              "    </tr>\n",
              "    <tr>\n",
              "      <th>3</th>\n",
              "      <td>John</td>\n",
              "      <td>53</td>\n",
              "      <td>4</td>\n",
              "    </tr>\n",
              "    <tr>\n",
              "      <th>2</th>\n",
              "      <td>Roy</td>\n",
              "      <td>59</td>\n",
              "      <td>3</td>\n",
              "    </tr>\n",
              "  </tbody>\n",
              "</table>\n",
              "</div>"
            ],
            "text/plain": [
              "    name  age  name_length\n",
              "0    Bob   12            3\n",
              "4  Susie   16            5\n",
              "1   Mary   39            4\n",
              "3   John   53            4\n",
              "2    Roy   59            3"
            ]
          },
          "metadata": {},
          "execution_count": 96
        }
      ]
    },
    {
      "cell_type": "markdown",
      "metadata": {
        "id": "aXR-Kc0shoFf"
      },
      "source": [
        "# Grouping"
      ]
    },
    {
      "cell_type": "code",
      "metadata": {
        "colab": {
          "base_uri": "https://localhost:8080/",
          "height": 175
        },
        "id": "cfWx-xL0hoFf",
        "outputId": "cb6852da-2f05-462d-c2e5-ef3fa4b5ff9e"
      },
      "source": [
        "g_people = df_people.groupby(\"name_length\")\n",
        "\n",
        "g_people.mean()"
      ],
      "execution_count": null,
      "outputs": [
        {
          "output_type": "execute_result",
          "data": {
            "text/html": [
              "<div>\n",
              "<style scoped>\n",
              "    .dataframe tbody tr th:only-of-type {\n",
              "        vertical-align: middle;\n",
              "    }\n",
              "\n",
              "    .dataframe tbody tr th {\n",
              "        vertical-align: top;\n",
              "    }\n",
              "\n",
              "    .dataframe thead th {\n",
              "        text-align: right;\n",
              "    }\n",
              "</style>\n",
              "<table border=\"1\" class=\"dataframe\">\n",
              "  <thead>\n",
              "    <tr style=\"text-align: right;\">\n",
              "      <th></th>\n",
              "      <th>age</th>\n",
              "    </tr>\n",
              "    <tr>\n",
              "      <th>name_length</th>\n",
              "      <th></th>\n",
              "    </tr>\n",
              "  </thead>\n",
              "  <tbody>\n",
              "    <tr>\n",
              "      <th>3</th>\n",
              "      <td>35.5</td>\n",
              "    </tr>\n",
              "    <tr>\n",
              "      <th>4</th>\n",
              "      <td>46.0</td>\n",
              "    </tr>\n",
              "    <tr>\n",
              "      <th>5</th>\n",
              "      <td>16.0</td>\n",
              "    </tr>\n",
              "  </tbody>\n",
              "</table>\n",
              "</div>"
            ],
            "text/plain": [
              "              age\n",
              "name_length      \n",
              "3            35.5\n",
              "4            46.0\n",
              "5            16.0"
            ]
          },
          "metadata": {},
          "execution_count": 98
        }
      ]
    },
    {
      "cell_type": "code",
      "metadata": {
        "colab": {
          "base_uri": "https://localhost:8080/"
        },
        "id": "X3a8DH2tzTqh",
        "outputId": "3ed25f0f-eecc-46da-8266-14dcb89fb7a2"
      },
      "source": [
        "g_people.age.max()"
      ],
      "execution_count": null,
      "outputs": [
        {
          "output_type": "execute_result",
          "data": {
            "text/plain": [
              "name_length\n",
              "3    59\n",
              "4    53\n",
              "5    16\n",
              "Name: age, dtype: int64"
            ]
          },
          "metadata": {},
          "execution_count": 100
        }
      ]
    },
    {
      "cell_type": "markdown",
      "metadata": {
        "id": "huld-gNnhoFf"
      },
      "source": [
        "# Merging or Joining\n",
        "\n",
        "[Merging Joining User Guide](https://pandas.pydata.org/pandas-docs/stable/user_guide/merging.html)"
      ]
    },
    {
      "cell_type": "markdown",
      "metadata": {
        "id": "j3BI8XH0hoFf"
      },
      "source": [
        "# Visualization \n",
        "\n",
        "[Chart Visualization User Guide](https://pandas.pydata.org/pandas-docs/stable/user_guide/visualization.html)"
      ]
    }
  ]
}
